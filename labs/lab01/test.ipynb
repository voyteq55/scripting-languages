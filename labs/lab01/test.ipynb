{
 "cells": [
  {
   "cell_type": "code",
   "execution_count": 4,
   "id": "ec48832c-b5f5-440e-b964-3e996c9135fd",
   "metadata": {},
   "outputs": [],
   "source": [
    "name = \"World\""
   ]
  },
  {
   "cell_type": "code",
   "execution_count": 3,
   "id": "3df6877e-30d3-4bcc-9550-7fc03389d602",
   "metadata": {},
   "outputs": [
    {
     "name": "stdout",
     "output_type": "stream",
     "text": [
      "Hello, World\n"
     ]
    }
   ],
   "source": [
    "print(f\"Hello, {name}\")"
   ]
  },
  {
   "cell_type": "markdown",
   "id": "acebdf92-b5e4-4247-a338-5aca41cd51ea",
   "metadata": {},
   "source": [
    "# Tytuł\n",
    "przykładowy tekst"
   ]
  },
  {
   "cell_type": "code",
   "execution_count": 1,
   "id": "eaa70ffc-d10e-45b6-b97c-4949e670f9bf",
   "metadata": {},
   "outputs": [
    {
     "name": "stdout",
     "output_type": "stream",
     "text": [
      "21\n"
     ]
    }
   ],
   "source": [
    "print(1 + 2 * 10)"
   ]
  },
  {
   "cell_type": "code",
   "execution_count": null,
   "id": "f1ea1c57-11fc-4151-943c-4bef18fb9373",
   "metadata": {},
   "outputs": [],
   "source": []
  }
 ],
 "metadata": {
  "kernelspec": {
   "display_name": "Python 3 (ipykernel)",
   "language": "python",
   "name": "python3"
  },
  "language_info": {
   "codemirror_mode": {
    "name": "ipython",
    "version": 3
   },
   "file_extension": ".py",
   "mimetype": "text/x-python",
   "name": "python",
   "nbconvert_exporter": "python",
   "pygments_lexer": "ipython3",
   "version": "3.10.0"
  }
 },
 "nbformat": 4,
 "nbformat_minor": 5
}
